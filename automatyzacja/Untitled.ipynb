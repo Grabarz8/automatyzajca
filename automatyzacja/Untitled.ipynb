{
 "cells": [
  {
   "cell_type": "code",
   "execution_count": 10,
   "id": "b8f3f199",
   "metadata": {},
   "outputs": [
    {
     "name": "stdout",
     "output_type": "stream",
     "text": [
      "Requirement already satisfied: Jinja2 in c:\\users\\graba\\anaconda3\\lib\\site-packages (2.11.3)\n",
      "Requirement already satisfied: MarkupSafe>=0.23 in c:\\users\\graba\\anaconda3\\lib\\site-packages (from Jinja2) (1.1.1)\n",
      "Note: you may need to restart the kernel to use updated packages.\n"
     ]
    }
   ],
   "source": [
    "pip install Jinja2"
   ]
  },
  {
   "cell_type": "code",
   "execution_count": 8,
   "id": "fb1d07ca",
   "metadata": {},
   "outputs": [],
   "source": [
    "from jinja2 import Environment, FileSystemLoader\n",
    "\n",
    "env = Environment(loader=FileSystemLoader('templates'))\n",
    "\n",
    "template = env.get_template('Raport1.html')\n",
    "\n",
    "html = template.render(nazwa_obiektu ='My report')\n",
    "\n",
    "with open('html_report_jinja.html', 'w') as f:\n",
    "    f.write(html)\n",
    "    \n"
   ]
  },
  {
   "cell_type": "code",
   "execution_count": 9,
   "id": "9b4804de",
   "metadata": {},
   "outputs": [
    {
     "ename": "ModuleNotFoundError",
     "evalue": "No module named 'weasyprint'",
     "output_type": "error",
     "traceback": [
      "\u001b[1;31m---------------------------------------------------------------------------\u001b[0m",
      "\u001b[1;31mModuleNotFoundError\u001b[0m                       Traceback (most recent call last)",
      "\u001b[1;32m~\\AppData\\Local\\Temp/ipykernel_21896/735944665.py\u001b[0m in \u001b[0;36m<module>\u001b[1;34m\u001b[0m\n\u001b[1;32m----> 1\u001b[1;33m \u001b[1;32mfrom\u001b[0m \u001b[0mweasyprint\u001b[0m \u001b[1;32mimport\u001b[0m \u001b[0mHTML\u001b[0m\u001b[1;33m,\u001b[0m \u001b[0mCSS\u001b[0m\u001b[1;33m\u001b[0m\u001b[1;33m\u001b[0m\u001b[0m\n\u001b[0m\u001b[0;32m      2\u001b[0m css = CSS(string='''\n\u001b[0;32m      3\u001b[0m     \u001b[1;33m@\u001b[0m\u001b[0mpage\u001b[0m \u001b[1;33m{\u001b[0m\u001b[0msize\u001b[0m\u001b[1;33m:\u001b[0m \u001b[0mA4\u001b[0m\u001b[1;33m;\u001b[0m \u001b[0mmargin\u001b[0m\u001b[1;33m:\u001b[0m \u001b[1;36m1\u001b[0m\u001b[0mcm\u001b[0m\u001b[1;33m;\u001b[0m\u001b[1;33m}\u001b[0m\u001b[1;33m\u001b[0m\u001b[1;33m\u001b[0m\u001b[0m\n\u001b[0;32m      4\u001b[0m     \u001b[0mth\u001b[0m\u001b[1;33m,\u001b[0m \u001b[0mtd\u001b[0m \u001b[1;33m{\u001b[0m\u001b[0mborder\u001b[0m\u001b[1;33m:\u001b[0m \u001b[1;36m1\u001b[0m\u001b[0mpx\u001b[0m \u001b[0msolid\u001b[0m \u001b[0mblack\u001b[0m\u001b[1;33m;\u001b[0m\u001b[1;33m}\u001b[0m\u001b[1;33m\u001b[0m\u001b[1;33m\u001b[0m\u001b[0m\n\u001b[0;32m      5\u001b[0m     ''')\n",
      "\u001b[1;31mModuleNotFoundError\u001b[0m: No module named 'weasyprint'"
     ]
    }
   ],
   "source": [
    "from weasyprint import HTML, CSS\n",
    "css = CSS(string='''\n",
    "    @page {size: A4; margin: 1cm;} \n",
    "    th, td {border: 1px solid black;}\n",
    "    ''')\n",
    "HTML('html_report_jinja.html').write_pdf('weasyprint_pdf_report.pdf', stylesheets=[css])"
   ]
  },
  {
   "cell_type": "code",
   "execution_count": 11,
   "id": "d4975f4d",
   "metadata": {},
   "outputs": [
    {
     "ename": "SyntaxError",
     "evalue": "invalid syntax (Temp/ipykernel_21896/4247317644.py, line 1)",
     "output_type": "error",
     "traceback": [
      "\u001b[1;36m  File \u001b[1;32m\"C:\\Users\\graba\\AppData\\Local\\Temp/ipykernel_21896/4247317644.py\"\u001b[1;36m, line \u001b[1;32m1\u001b[0m\n\u001b[1;33m    apk add py3-pip py3-pillow py3-cffi py3-brotli gcc musl-dev python3-dev pango\u001b[0m\n\u001b[1;37m        ^\u001b[0m\n\u001b[1;31mSyntaxError\u001b[0m\u001b[1;31m:\u001b[0m invalid syntax\n"
     ]
    }
   ],
   "source": []
  },
  {
   "cell_type": "code",
   "execution_count": 12,
   "id": "e8dcd8c6",
   "metadata": {},
   "outputs": [
    {
     "ename": "SyntaxError",
     "evalue": "invalid syntax (Temp/ipykernel_21896/602835654.py, line 1)",
     "output_type": "error",
     "traceback": [
      "\u001b[1;36m  File \u001b[1;32m\"C:\\Users\\graba\\AppData\\Local\\Temp/ipykernel_21896/602835654.py\"\u001b[1;36m, line \u001b[1;32m1\u001b[0m\n\u001b[1;33m    python3 -m venv venv\u001b[0m\n\u001b[1;37m               ^\u001b[0m\n\u001b[1;31mSyntaxError\u001b[0m\u001b[1;31m:\u001b[0m invalid syntax\n"
     ]
    }
   ],
   "source": [
    "python3 -m venv venv\n",
    "venv\\Scripts\\activate.bat\n",
    "python3 -m pip install weasyprint\n",
    "python3 -m weasyprint --info"
   ]
  },
  {
   "cell_type": "code",
   "execution_count": 13,
   "id": "f2d96e6c",
   "metadata": {},
   "outputs": [
    {
     "ename": "SyntaxError",
     "evalue": "invalid syntax (Temp/ipykernel_21896/2169124949.py, line 1)",
     "output_type": "error",
     "traceback": [
      "\u001b[1;36m  File \u001b[1;32m\"C:\\Users\\graba\\AppData\\Local\\Temp/ipykernel_21896/2169124949.py\"\u001b[1;36m, line \u001b[1;32m1\u001b[0m\n\u001b[1;33m    conda install -c conda-forge weasyprint\u001b[0m\n\u001b[1;37m          ^\u001b[0m\n\u001b[1;31mSyntaxError\u001b[0m\u001b[1;31m:\u001b[0m invalid syntax\n"
     ]
    }
   ],
   "source": [
    "conda install -c conda-forge weasyprint\n",
    "conda install -c \"conda-forge/label/cf202003\" weasyprint"
   ]
  },
  {
   "cell_type": "code",
   "execution_count": 14,
   "id": "addfd43e",
   "metadata": {},
   "outputs": [
    {
     "name": "stdout",
     "output_type": "stream",
     "text": [
      "^C\n",
      "\n",
      "Note: you may need to restart the kernel to use updated packages.\n"
     ]
    }
   ],
   "source": [
    "conda install -c conda-forge weasyprint"
   ]
  },
  {
   "cell_type": "code",
   "execution_count": 15,
   "id": "7c3a0824",
   "metadata": {},
   "outputs": [
    {
     "name": "stdout",
     "output_type": "stream",
     "text": [
      "^C\n",
      "\n",
      "Note: you may need to restart the kernel to use updated packages.\n"
     ]
    }
   ],
   "source": [
    "conda install -c \"conda-forge/label/cf202003\" weasyprint"
   ]
  },
  {
   "cell_type": "code",
   "execution_count": 16,
   "id": "d936aead",
   "metadata": {},
   "outputs": [
    {
     "ename": "ModuleNotFoundError",
     "evalue": "No module named 'weasyprint'",
     "output_type": "error",
     "traceback": [
      "\u001b[1;31m---------------------------------------------------------------------------\u001b[0m",
      "\u001b[1;31mModuleNotFoundError\u001b[0m                       Traceback (most recent call last)",
      "\u001b[1;32m~\\AppData\\Local\\Temp/ipykernel_21896/735944665.py\u001b[0m in \u001b[0;36m<module>\u001b[1;34m\u001b[0m\n\u001b[1;32m----> 1\u001b[1;33m \u001b[1;32mfrom\u001b[0m \u001b[0mweasyprint\u001b[0m \u001b[1;32mimport\u001b[0m \u001b[0mHTML\u001b[0m\u001b[1;33m,\u001b[0m \u001b[0mCSS\u001b[0m\u001b[1;33m\u001b[0m\u001b[1;33m\u001b[0m\u001b[0m\n\u001b[0m\u001b[0;32m      2\u001b[0m css = CSS(string='''\n\u001b[0;32m      3\u001b[0m     \u001b[1;33m@\u001b[0m\u001b[0mpage\u001b[0m \u001b[1;33m{\u001b[0m\u001b[0msize\u001b[0m\u001b[1;33m:\u001b[0m \u001b[0mA4\u001b[0m\u001b[1;33m;\u001b[0m \u001b[0mmargin\u001b[0m\u001b[1;33m:\u001b[0m \u001b[1;36m1\u001b[0m\u001b[0mcm\u001b[0m\u001b[1;33m;\u001b[0m\u001b[1;33m}\u001b[0m\u001b[1;33m\u001b[0m\u001b[1;33m\u001b[0m\u001b[0m\n\u001b[0;32m      4\u001b[0m     \u001b[0mth\u001b[0m\u001b[1;33m,\u001b[0m \u001b[0mtd\u001b[0m \u001b[1;33m{\u001b[0m\u001b[0mborder\u001b[0m\u001b[1;33m:\u001b[0m \u001b[1;36m1\u001b[0m\u001b[0mpx\u001b[0m \u001b[0msolid\u001b[0m \u001b[0mblack\u001b[0m\u001b[1;33m;\u001b[0m\u001b[1;33m}\u001b[0m\u001b[1;33m\u001b[0m\u001b[1;33m\u001b[0m\u001b[0m\n\u001b[0;32m      5\u001b[0m     ''')\n",
      "\u001b[1;31mModuleNotFoundError\u001b[0m: No module named 'weasyprint'"
     ]
    }
   ],
   "source": [
    "from weasyprint import HTML, CSS\n",
    "css = CSS(string='''\n",
    "    @page {size: A4; margin: 1cm;} \n",
    "    th, td {border: 1px solid black;}\n",
    "    ''')\n",
    "HTML('html_report_jinja.html').write_pdf('weasyprint_pdf_report.pdf', stylesheets=[css])"
   ]
  },
  {
   "cell_type": "code",
   "execution_count": 17,
   "id": "2a5dc146",
   "metadata": {},
   "outputs": [
    {
     "name": "stdout",
     "output_type": "stream",
     "text": [
      "Collecting package metadata (current_repodata.json): ...working... done\n",
      "Solving environment: ...working... failed with initial frozen solve. Retrying with flexible solve.\n",
      "Collecting package metadata (repodata.json): ...working... done\n",
      "Solving environment: ...working... failed with initial frozen solve. Retrying with flexible solve.\n"
     ]
    },
    {
     "name": "stderr",
     "output_type": "stream",
     "text": [
      "\n",
      "PackagesNotFoundError: The following packages are not available from current channels:\n",
      "\n",
      "  - weasyprint\n",
      "\n",
      "Current channels:\n",
      "\n",
      "  - https://conda.anaconda.org/conda-forge/label/cf202003/win-64\n",
      "  - https://conda.anaconda.org/conda-forge/label/cf202003/noarch\n",
      "  - https://repo.anaconda.com/pkgs/main/win-64\n",
      "  - https://repo.anaconda.com/pkgs/main/noarch\n",
      "  - https://repo.anaconda.com/pkgs/r/win-64\n",
      "  - https://repo.anaconda.com/pkgs/r/noarch\n",
      "  - https://repo.anaconda.com/pkgs/msys2/win-64\n",
      "  - https://repo.anaconda.com/pkgs/msys2/noarch\n",
      "\n",
      "To search for alternate channels that may provide the conda package you're\n",
      "looking for, navigate to\n",
      "\n",
      "    https://anaconda.org\n",
      "\n",
      "and use the search bar at the top of the page.\n",
      "\n",
      "\n"
     ]
    }
   ],
   "source": [
    "from jinja2 import Environment, FileSystemLoader\n",
    "\n",
    "env = Environment(loader=FileSystemLoader('templates'))\n",
    "\n",
    "template = env.get_template('Raport1.html')\n",
    "\n",
    "html = template.render(nazwa_obiektu ='My report')\n",
    "\n",
    "with open('html_report_jinja.html', 'w') as f:\n",
    "    f.write(html)\n"
   ]
  },
  {
   "cell_type": "code",
   "execution_count": 18,
   "id": "69a6a028",
   "metadata": {},
   "outputs": [
    {
     "ename": "ModuleNotFoundError",
     "evalue": "No module named 'weasyprint'",
     "output_type": "error",
     "traceback": [
      "\u001b[1;31m---------------------------------------------------------------------------\u001b[0m",
      "\u001b[1;31mModuleNotFoundError\u001b[0m                       Traceback (most recent call last)",
      "\u001b[1;32m~\\AppData\\Local\\Temp/ipykernel_21896/735944665.py\u001b[0m in \u001b[0;36m<module>\u001b[1;34m\u001b[0m\n\u001b[1;32m----> 1\u001b[1;33m \u001b[1;32mfrom\u001b[0m \u001b[0mweasyprint\u001b[0m \u001b[1;32mimport\u001b[0m \u001b[0mHTML\u001b[0m\u001b[1;33m,\u001b[0m \u001b[0mCSS\u001b[0m\u001b[1;33m\u001b[0m\u001b[1;33m\u001b[0m\u001b[0m\n\u001b[0m\u001b[0;32m      2\u001b[0m css = CSS(string='''\n\u001b[0;32m      3\u001b[0m     \u001b[1;33m@\u001b[0m\u001b[0mpage\u001b[0m \u001b[1;33m{\u001b[0m\u001b[0msize\u001b[0m\u001b[1;33m:\u001b[0m \u001b[0mA4\u001b[0m\u001b[1;33m;\u001b[0m \u001b[0mmargin\u001b[0m\u001b[1;33m:\u001b[0m \u001b[1;36m1\u001b[0m\u001b[0mcm\u001b[0m\u001b[1;33m;\u001b[0m\u001b[1;33m}\u001b[0m\u001b[1;33m\u001b[0m\u001b[1;33m\u001b[0m\u001b[0m\n\u001b[0;32m      4\u001b[0m     \u001b[0mth\u001b[0m\u001b[1;33m,\u001b[0m \u001b[0mtd\u001b[0m \u001b[1;33m{\u001b[0m\u001b[0mborder\u001b[0m\u001b[1;33m:\u001b[0m \u001b[1;36m1\u001b[0m\u001b[0mpx\u001b[0m \u001b[0msolid\u001b[0m \u001b[0mblack\u001b[0m\u001b[1;33m;\u001b[0m\u001b[1;33m}\u001b[0m\u001b[1;33m\u001b[0m\u001b[1;33m\u001b[0m\u001b[0m\n\u001b[0;32m      5\u001b[0m     ''')\n",
      "\u001b[1;31mModuleNotFoundError\u001b[0m: No module named 'weasyprint'"
     ]
    }
   ],
   "source": [
    "from weasyprint import HTML, CSS\n",
    "css = CSS(string='''\n",
    "    @page {size: A4; margin: 1cm;} \n",
    "    th, td {border: 1px solid black;}\n",
    "    ''')\n",
    "HTML('html_report_jinja.html').write_pdf('weasyprint_pdf_report.pdf', stylesheets=[css])"
   ]
  },
  {
   "cell_type": "code",
   "execution_count": 19,
   "id": "6b2f3ad1",
   "metadata": {},
   "outputs": [
    {
     "name": "stdout",
     "output_type": "stream",
     "text": [
      "^C\n",
      "\n",
      "Note: you may need to restart the kernel to use updated packages.\n"
     ]
    }
   ],
   "source": [
    "conda install -c conda-forge weasyprint"
   ]
  },
  {
   "cell_type": "code",
   "execution_count": 1,
   "id": "4d8caacc",
   "metadata": {},
   "outputs": [
    {
     "ename": "ModuleNotFoundError",
     "evalue": "No module named 'weasyprint'",
     "output_type": "error",
     "traceback": [
      "\u001b[1;31m---------------------------------------------------------------------------\u001b[0m",
      "\u001b[1;31mModuleNotFoundError\u001b[0m                       Traceback (most recent call last)",
      "\u001b[1;32m~\\AppData\\Local\\Temp/ipykernel_6820/2544006600.py\u001b[0m in \u001b[0;36m<module>\u001b[1;34m\u001b[0m\n\u001b[1;32m----> 1\u001b[1;33m \u001b[1;32mfrom\u001b[0m \u001b[0mweasyprint\u001b[0m \u001b[1;32mimport\u001b[0m \u001b[0mHTML\u001b[0m\u001b[1;33m,\u001b[0m \u001b[0mCSS\u001b[0m\u001b[1;33m\u001b[0m\u001b[1;33m\u001b[0m\u001b[0m\n\u001b[0m\u001b[0;32m      2\u001b[0m css = CSS(string='''\n\u001b[0;32m      3\u001b[0m     \u001b[1;33m@\u001b[0m\u001b[0mpage\u001b[0m \u001b[1;33m{\u001b[0m\u001b[0msize\u001b[0m\u001b[1;33m:\u001b[0m \u001b[0mA4\u001b[0m\u001b[1;33m;\u001b[0m \u001b[0mmargin\u001b[0m\u001b[1;33m:\u001b[0m \u001b[1;36m1\u001b[0m\u001b[0mcm\u001b[0m\u001b[1;33m;\u001b[0m\u001b[1;33m}\u001b[0m\u001b[1;33m\u001b[0m\u001b[1;33m\u001b[0m\u001b[0m\n\u001b[0;32m      4\u001b[0m     \u001b[0mth\u001b[0m\u001b[1;33m,\u001b[0m \u001b[0mtd\u001b[0m \u001b[1;33m{\u001b[0m\u001b[0mborder\u001b[0m\u001b[1;33m:\u001b[0m \u001b[1;36m1\u001b[0m\u001b[0mpx\u001b[0m \u001b[0msolid\u001b[0m \u001b[0mblack\u001b[0m\u001b[1;33m;\u001b[0m\u001b[1;33m}\u001b[0m\u001b[1;33m\u001b[0m\u001b[1;33m\u001b[0m\u001b[0m\n\u001b[0;32m      5\u001b[0m     ''')\n",
      "\u001b[1;31mModuleNotFoundError\u001b[0m: No module named 'weasyprint'"
     ]
    }
   ],
   "source": [
    "from weasyprint import HTML, CSS\n",
    "css = CSS(string='''\n",
    "    @page {size: A4; margin: 1cm;} \n",
    "    th, td {border: 1px solid black;}\n",
    "    ''')\n",
    "HTML('html_report_jinja.html').write_pdf('weasyprint_pdf_report.pdf', stylesheets=[css])\n"
   ]
  },
  {
   "cell_type": "code",
   "execution_count": 2,
   "id": "f06324e9",
   "metadata": {},
   "outputs": [
    {
     "ename": "NameError",
     "evalue": "name 'python3' is not defined",
     "output_type": "error",
     "traceback": [
      "\u001b[1;31m---------------------------------------------------------------------------\u001b[0m",
      "\u001b[1;31mNameError\u001b[0m                                 Traceback (most recent call last)",
      "\u001b[1;32m~\\AppData\\Local\\Temp/ipykernel_6820/2323768189.py\u001b[0m in \u001b[0;36m<module>\u001b[1;34m\u001b[0m\n\u001b[1;32m----> 1\u001b[1;33m \u001b[0mpython3\u001b[0m \u001b[1;33m-\u001b[0m\u001b[1;33m-\u001b[0m\u001b[0mversion\u001b[0m\u001b[1;33m\u001b[0m\u001b[1;33m\u001b[0m\u001b[0m\n\u001b[0m",
      "\u001b[1;31mNameError\u001b[0m: name 'python3' is not defined"
     ]
    }
   ],
   "source": [
    "python3 --version"
   ]
  },
  {
   "cell_type": "code",
   "execution_count": null,
   "id": "5f274f16",
   "metadata": {},
   "outputs": [],
   "source": []
  }
 ],
 "metadata": {
  "kernelspec": {
   "display_name": "Python 3 (ipykernel)",
   "language": "python",
   "name": "python3"
  },
  "language_info": {
   "codemirror_mode": {
    "name": "ipython",
    "version": 3
   },
   "file_extension": ".py",
   "mimetype": "text/x-python",
   "name": "python",
   "nbconvert_exporter": "python",
   "pygments_lexer": "ipython3",
   "version": "3.9.7"
  }
 },
 "nbformat": 4,
 "nbformat_minor": 5
}
